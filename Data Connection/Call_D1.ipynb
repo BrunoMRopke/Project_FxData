{
 "cells": [
  {
   "cell_type": "code",
   "execution_count": 1,
   "id": "a1428264",
   "metadata": {},
   "outputs": [],
   "source": [
    "import numpy as np\n",
    "import matplotlib as plt\n",
    "import pandas as pd\n",
    "import yfinance as yf\n",
    "import pandas_ta as ta\n",
    "import MetaTrader5 as mt5\n",
    "import datetime"
   ]
  },
  {
   "cell_type": "code",
   "execution_count": 2,
   "id": "7323a80d",
   "metadata": {},
   "outputs": [],
   "source": [
    "if not mt5.initialize():\n",
    "    print(\"initialize() failed, error code =\",mt5.last_error())\n",
    "    quit()"
   ]
  },
  {
   "cell_type": "code",
   "execution_count": 3,
   "id": "876ddf12",
   "metadata": {},
   "outputs": [],
   "source": [
    "# Set Symbol PAIR\n",
    "symbol = \"USDJPY\"\n",
    "# Set timeframe\n",
    "timeframe = mt5.TIMEFRAME_D1  "
   ]
  },
  {
   "cell_type": "code",
   "execution_count": 4,
   "id": "7155f615",
   "metadata": {},
   "outputs": [],
   "source": [
    "# Define Incial Date\n",
    "start_date = datetime.datetime(2001, 1, 1)\n",
    "# Last Value in range\n",
    "end_date = datetime.datetime.now()\n",
    "\n",
    "# Copy Data to variable 'rates'\n",
    "rates = mt5.copy_rates_range(symbol, timeframe, start_date, end_date)"
   ]
  },
  {
   "cell_type": "code",
   "execution_count": 5,
   "id": "cbab518e",
   "metadata": {},
   "outputs": [
    {
     "name": "stdout",
     "output_type": "stream",
     "text": [
      "<class 'pandas.core.frame.DataFrame'>\n",
      "DatetimeIndex: 5694 entries, 2001-01-02 to 2023-11-15\n",
      "Data columns (total 11 columns):\n",
      " #   Column       Non-Null Count  Dtype  \n",
      "---  ------       --------------  -----  \n",
      " 0   open         5694 non-null   float64\n",
      " 1   high         5694 non-null   float64\n",
      " 2   low          5694 non-null   float64\n",
      " 3   close        5694 non-null   float64\n",
      " 4   tick_volume  5694 non-null   uint64 \n",
      " 5   spread       5694 non-null   int32  \n",
      " 6   real_volume  5694 non-null   uint64 \n",
      " 7   RSI          5680 non-null   float64\n",
      " 8   EMA20        5685 non-null   float64\n",
      " 9   EMA50        5685 non-null   float64\n",
      " 10  EMA100       5685 non-null   float64\n",
      "dtypes: float64(8), int32(1), uint64(2)\n",
      "memory usage: 511.6 KB\n"
     ]
    }
   ],
   "source": [
    "# Convert Time to Pandas format\n",
    "data = pd.DataFrame(rates)\n",
    "data['time'] = pd.to_datetime(data['time'], unit='s')  # Converta o tempo em segundos para o formato datetime\n",
    "data.set_index('time', inplace=True)\n",
    "\n",
    "# Finalize MT5 Connection\n",
    "mt5.shutdown()\n",
    "\n",
    "# Add Exponential Moving Avg and Relative STR\n",
    "data['RSI'] = ta.rsi(data.close, lenght=14)\n",
    "data['EMA20'] = ta.ema(data.close, lenght=20)\n",
    "data['EMA50'] = ta.ema(data.close, lenght=50)\n",
    "data['EMA100'] = ta.ema(data.close, lenght=100)\n",
    "\n",
    "# Exiba os primeiros 10 registros\n",
    "data.head(10)\n",
    "data.info()\n",
    "data = data.drop(['tick_volume', 'spread', 'real_volume'], axis=1)"
   ]
  },
  {
   "cell_type": "code",
   "execution_count": 6,
   "id": "cb14fada",
   "metadata": {},
   "outputs": [
    {
     "data": {
      "text/html": [
       "<div>\n",
       "<style scoped>\n",
       "    .dataframe tbody tr th:only-of-type {\n",
       "        vertical-align: middle;\n",
       "    }\n",
       "\n",
       "    .dataframe tbody tr th {\n",
       "        vertical-align: top;\n",
       "    }\n",
       "\n",
       "    .dataframe thead th {\n",
       "        text-align: right;\n",
       "    }\n",
       "</style>\n",
       "<table border=\"1\" class=\"dataframe\">\n",
       "  <thead>\n",
       "    <tr style=\"text-align: right;\">\n",
       "      <th></th>\n",
       "      <th>open</th>\n",
       "      <th>high</th>\n",
       "      <th>low</th>\n",
       "      <th>close</th>\n",
       "      <th>RSI</th>\n",
       "      <th>EMA20</th>\n",
       "      <th>EMA50</th>\n",
       "      <th>EMA100</th>\n",
       "    </tr>\n",
       "    <tr>\n",
       "      <th>time</th>\n",
       "      <th></th>\n",
       "      <th></th>\n",
       "      <th></th>\n",
       "      <th></th>\n",
       "      <th></th>\n",
       "      <th></th>\n",
       "      <th></th>\n",
       "      <th></th>\n",
       "    </tr>\n",
       "  </thead>\n",
       "  <tbody>\n",
       "    <tr>\n",
       "      <th>2023-11-09</th>\n",
       "      <td>150.938</td>\n",
       "      <td>151.386</td>\n",
       "      <td>150.768</td>\n",
       "      <td>151.347</td>\n",
       "      <td>60.408852</td>\n",
       "      <td>150.494254</td>\n",
       "      <td>150.494254</td>\n",
       "      <td>150.494254</td>\n",
       "    </tr>\n",
       "    <tr>\n",
       "      <th>2023-11-10</th>\n",
       "      <td>151.322</td>\n",
       "      <td>151.602</td>\n",
       "      <td>151.221</td>\n",
       "      <td>151.519</td>\n",
       "      <td>61.324438</td>\n",
       "      <td>150.680571</td>\n",
       "      <td>150.680571</td>\n",
       "      <td>150.680571</td>\n",
       "    </tr>\n",
       "    <tr>\n",
       "      <th>2023-11-13</th>\n",
       "      <td>151.439</td>\n",
       "      <td>151.907</td>\n",
       "      <td>151.205</td>\n",
       "      <td>151.723</td>\n",
       "      <td>62.434075</td>\n",
       "      <td>150.870104</td>\n",
       "      <td>150.870104</td>\n",
       "      <td>150.870104</td>\n",
       "    </tr>\n",
       "    <tr>\n",
       "      <th>2023-11-14</th>\n",
       "      <td>151.643</td>\n",
       "      <td>151.785</td>\n",
       "      <td>150.151</td>\n",
       "      <td>150.391</td>\n",
       "      <td>51.952838</td>\n",
       "      <td>150.782994</td>\n",
       "      <td>150.782994</td>\n",
       "      <td>150.782994</td>\n",
       "    </tr>\n",
       "    <tr>\n",
       "      <th>2023-11-15</th>\n",
       "      <td>150.328</td>\n",
       "      <td>150.790</td>\n",
       "      <td>150.274</td>\n",
       "      <td>150.559</td>\n",
       "      <td>53.024004</td>\n",
       "      <td>150.742268</td>\n",
       "      <td>150.742268</td>\n",
       "      <td>150.742268</td>\n",
       "    </tr>\n",
       "  </tbody>\n",
       "</table>\n",
       "</div>"
      ],
      "text/plain": [
       "               open     high      low    close        RSI       EMA20  \\\n",
       "time                                                                    \n",
       "2023-11-09  150.938  151.386  150.768  151.347  60.408852  150.494254   \n",
       "2023-11-10  151.322  151.602  151.221  151.519  61.324438  150.680571   \n",
       "2023-11-13  151.439  151.907  151.205  151.723  62.434075  150.870104   \n",
       "2023-11-14  151.643  151.785  150.151  150.391  51.952838  150.782994   \n",
       "2023-11-15  150.328  150.790  150.274  150.559  53.024004  150.742268   \n",
       "\n",
       "                 EMA50      EMA100  \n",
       "time                                \n",
       "2023-11-09  150.494254  150.494254  \n",
       "2023-11-10  150.680571  150.680571  \n",
       "2023-11-13  150.870104  150.870104  \n",
       "2023-11-14  150.782994  150.782994  \n",
       "2023-11-15  150.742268  150.742268  "
      ]
     },
     "execution_count": 6,
     "metadata": {},
     "output_type": "execute_result"
    }
   ],
   "source": [
    "data.tail(5)"
   ]
  },
  {
   "cell_type": "code",
   "execution_count": null,
   "id": "9f819bcf",
   "metadata": {},
   "outputs": [],
   "source": []
  },
  {
   "cell_type": "code",
   "execution_count": null,
   "id": "0929af99",
   "metadata": {},
   "outputs": [],
   "source": []
  }
 ],
 "metadata": {
  "kernelspec": {
   "display_name": "Python 3 (ipykernel)",
   "language": "python",
   "name": "python3"
  },
  "language_info": {
   "codemirror_mode": {
    "name": "ipython",
    "version": 3
   },
   "file_extension": ".py",
   "mimetype": "text/x-python",
   "name": "python",
   "nbconvert_exporter": "python",
   "pygments_lexer": "ipython3",
   "version": "3.11.4"
  }
 },
 "nbformat": 4,
 "nbformat_minor": 5
}
