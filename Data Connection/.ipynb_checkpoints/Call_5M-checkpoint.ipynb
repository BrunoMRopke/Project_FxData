{
 "cells": [
  {
   "cell_type": "code",
   "execution_count": null,
   "id": "b41ec7e9",
   "metadata": {},
   "outputs": [],
   "source": [
    "if not mt5.initialize():\n",
    "    print(\"initialize() failed, error code =\",mt5.last_error())\n",
    "    quit()"
   ]
  },
  {
   "cell_type": "code",
   "execution_count": null,
   "id": "3d8c684a",
   "metadata": {},
   "outputs": [],
   "source": [
    "# Set Symbol PAIR\n",
    "symbol = \"USDJPY\"\n",
    "# Set timeframe\n",
    "timeframe = mt5.TIMEFRAME_D1  "
   ]
  },
  {
   "cell_type": "code",
   "execution_count": null,
   "id": "b2f3d9b0",
   "metadata": {},
   "outputs": [],
   "source": [
    "# Defina a data de início\n",
    "start_date = datetime.datetime(2001, 1, 1)\n",
    "\n",
    "# Obtenha os dados históricos\n",
    "rates = mt5.copy_rates_from(symbol, timeframe, start_date, 5000)  # 1000 barras a partir da data de início"
   ]
  },
  {
   "cell_type": "code",
   "execution_count": null,
   "id": "f5b3e80e",
   "metadata": {},
   "outputs": [],
   "source": [
    "aa"
   ]
  },
  {
   "cell_type": "code",
   "execution_count": 2,
   "id": "26dc4e74",
   "metadata": {},
   "outputs": [
    {
     "name": "stdout",
     "output_type": "stream",
     "text": [
      "<class 'pandas.core.frame.DataFrame'>\n",
      "DatetimeIndex: 5000 entries, 2003-08-27 to 2023-11-10\n",
      "Data columns (total 7 columns):\n",
      " #   Column       Non-Null Count  Dtype  \n",
      "---  ------       --------------  -----  \n",
      " 0   open         5000 non-null   float64\n",
      " 1   high         5000 non-null   float64\n",
      " 2   low          5000 non-null   float64\n",
      " 3   close        5000 non-null   float64\n",
      " 4   tick_volume  5000 non-null   uint64 \n",
      " 5   spread       5000 non-null   int32  \n",
      " 6   real_volume  5000 non-null   uint64 \n",
      "dtypes: float64(4), int32(1), uint64(2)\n",
      "memory usage: 293.0 KB\n"
     ]
    }
   ],
   "source": [
    "\n",
    "\n",
    "\n",
    "\n",
    "# Converta os dados para um DataFrame do pandas\n",
    "data = pd.DataFrame(rates)\n",
    "data['time'] = pd.to_datetime(data['time'], unit='s')  # Converta o tempo em segundos para o formato datetime\n",
    "data.set_index('time', inplace=True)\n",
    "\n",
    "# Finalize a conexão com o MT5\n",
    "mt5.shutdown()\n",
    "\n",
    "# Exiba os primeiros 10 registros\n",
    "data.head(10)\n",
    "data.info()"
   ]
  },
  {
   "cell_type": "code",
   "execution_count": 1,
   "id": "76ab015c",
   "metadata": {},
   "outputs": [],
   "source": []
  },
  {
   "cell_type": "code",
   "execution_count": 4,
   "id": "ce05faca",
   "metadata": {},
   "outputs": [
    {
     "data": {
      "text/html": [
       "<div>\n",
       "<style scoped>\n",
       "    .dataframe tbody tr th:only-of-type {\n",
       "        vertical-align: middle;\n",
       "    }\n",
       "\n",
       "    .dataframe tbody tr th {\n",
       "        vertical-align: top;\n",
       "    }\n",
       "\n",
       "    .dataframe thead th {\n",
       "        text-align: right;\n",
       "    }\n",
       "</style>\n",
       "<table border=\"1\" class=\"dataframe\">\n",
       "  <thead>\n",
       "    <tr style=\"text-align: right;\">\n",
       "      <th></th>\n",
       "      <th>open</th>\n",
       "      <th>high</th>\n",
       "      <th>low</th>\n",
       "      <th>close</th>\n",
       "      <th>tick_volume</th>\n",
       "      <th>spread</th>\n",
       "      <th>real_volume</th>\n",
       "    </tr>\n",
       "    <tr>\n",
       "      <th>time</th>\n",
       "      <th></th>\n",
       "      <th></th>\n",
       "      <th></th>\n",
       "      <th></th>\n",
       "      <th></th>\n",
       "      <th></th>\n",
       "      <th></th>\n",
       "    </tr>\n",
       "  </thead>\n",
       "  <tbody>\n",
       "    <tr>\n",
       "      <th>2023-11-06</th>\n",
       "      <td>149.317</td>\n",
       "      <td>150.062</td>\n",
       "      <td>149.317</td>\n",
       "      <td>150.056</td>\n",
       "      <td>58628</td>\n",
       "      <td>2</td>\n",
       "      <td>0</td>\n",
       "    </tr>\n",
       "    <tr>\n",
       "      <th>2023-11-07</th>\n",
       "      <td>150.043</td>\n",
       "      <td>150.693</td>\n",
       "      <td>149.929</td>\n",
       "      <td>150.413</td>\n",
       "      <td>60747</td>\n",
       "      <td>2</td>\n",
       "      <td>0</td>\n",
       "    </tr>\n",
       "    <tr>\n",
       "      <th>2023-11-08</th>\n",
       "      <td>150.366</td>\n",
       "      <td>151.058</td>\n",
       "      <td>150.298</td>\n",
       "      <td>150.983</td>\n",
       "      <td>60164</td>\n",
       "      <td>2</td>\n",
       "      <td>0</td>\n",
       "    </tr>\n",
       "    <tr>\n",
       "      <th>2023-11-09</th>\n",
       "      <td>150.938</td>\n",
       "      <td>151.386</td>\n",
       "      <td>150.768</td>\n",
       "      <td>151.347</td>\n",
       "      <td>66380</td>\n",
       "      <td>0</td>\n",
       "      <td>0</td>\n",
       "    </tr>\n",
       "    <tr>\n",
       "      <th>2023-11-10</th>\n",
       "      <td>151.322</td>\n",
       "      <td>151.602</td>\n",
       "      <td>151.221</td>\n",
       "      <td>151.519</td>\n",
       "      <td>54452</td>\n",
       "      <td>2</td>\n",
       "      <td>0</td>\n",
       "    </tr>\n",
       "  </tbody>\n",
       "</table>\n",
       "</div>"
      ],
      "text/plain": [
       "               open     high      low    close  tick_volume  spread  \\\n",
       "time                                                                  \n",
       "2023-11-06  149.317  150.062  149.317  150.056        58628       2   \n",
       "2023-11-07  150.043  150.693  149.929  150.413        60747       2   \n",
       "2023-11-08  150.366  151.058  150.298  150.983        60164       2   \n",
       "2023-11-09  150.938  151.386  150.768  151.347        66380       0   \n",
       "2023-11-10  151.322  151.602  151.221  151.519        54452       2   \n",
       "\n",
       "            real_volume  \n",
       "time                     \n",
       "2023-11-06            0  \n",
       "2023-11-07            0  \n",
       "2023-11-08            0  \n",
       "2023-11-09            0  \n",
       "2023-11-10            0  "
      ]
     },
     "execution_count": 4,
     "metadata": {},
     "output_type": "execute_result"
    }
   ],
   "source": [
    "data.tail(5)"
   ]
  }
 ],
 "metadata": {
  "kernelspec": {
   "display_name": "Python 3 (ipykernel)",
   "language": "python",
   "name": "python3"
  },
  "language_info": {
   "codemirror_mode": {
    "name": "ipython",
    "version": 3
   },
   "file_extension": ".py",
   "mimetype": "text/x-python",
   "name": "python",
   "nbconvert_exporter": "python",
   "pygments_lexer": "ipython3",
   "version": "3.11.4"
  }
 },
 "nbformat": 4,
 "nbformat_minor": 5
}
